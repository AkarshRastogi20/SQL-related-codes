{
 "cells": [
  {
   "cell_type": "markdown",
   "id": "e93e4a94",
   "metadata": {},
   "source": [
    "# SQLite 3"
   ]
  },
  {
   "cell_type": "code",
   "execution_count": 1,
   "id": "c175369d",
   "metadata": {},
   "outputs": [
    {
     "name": "stdout",
     "output_type": "stream",
     "text": [
      "Connected with the database\n"
     ]
    }
   ],
   "source": [
    "#import the sqlite3\n",
    "\n",
    "import sqlite3\n",
    "\n",
    "#(Then create a connection using .connect() method and pass the name of the database you want to access if there is a \n",
    "# file with that name, it will open that file. Otherwise, Python will create a file with the given name.)\n",
    "\n",
    "db = sqlite3.connect('my_database.db')\n",
    "\n",
    "# After this, a cursor object is called to be capable to send commands to the SQL\n",
    "\n",
    "cursor=db.cursor()\n",
    "\n",
    "# It will give you output if there is no error\n",
    "\n",
    "print('Connected with the database')\n",
    "\n",
    "# for closing the connection\n",
    "db.close()"
   ]
  },
  {
   "cell_type": "code",
   "execution_count": 6,
   "id": "813f830a",
   "metadata": {},
   "outputs": [],
   "source": [
    "import sqlite3\n",
    "db=sqlite3.connect('my_file.db')\n",
    "\n",
    "\n",
    "# using .execute() for writing any command (data) in the table\n",
    "db.execute('drop table if exists grades1')  #grades1 is the table name\n",
    "db.execute('create table grades1(id int,name text,score int)') # Into the grades1 bracket all of the heading names have written\n",
    "db.execute(\"insert into grades1(id,name,score) values(101,'John',99)\")\n",
    "db.execute(\"insert into grades1(id,name,score) values(102,'Gary',90)\")\n",
    "db.execute(\"insert into grades1(id,name,score) values(103,'James',80)\")\n",
    "db.execute(\"insert into grades1(id,name,score) values(104,'Harry',87)\")\n",
    "db.execute(\"insert into grades1(id,name,score) values(105,'Peter',77)\")\n",
    "\n",
    "# using .commit() for save or store our data permanently in the table\n",
    "\n",
    "db.commit()\n",
    "\n"
   ]
  },
  {
   "cell_type": "code",
   "execution_count": 9,
   "id": "f398884a",
   "metadata": {},
   "outputs": [
    {
     "name": "stdout",
     "output_type": "stream",
     "text": [
      "(101, 'John', 99)\n",
      "------------------------------------------------------------\n",
      "(102, 'Gary', 90)\n",
      "------------------------------------------------------------\n",
      "(103, 'James', 80)\n",
      "------------------------------------------------------------\n",
      "(104, 'Harry', 87)\n",
      "------------------------------------------------------------\n",
      "(105, 'Peter', 77)\n",
      "------------------------------------------------------------\n"
     ]
    }
   ],
   "source": [
    "results=db.execute(\"select*from grades1 order by id\") # Here * means everything\n",
    "for row in results:\n",
    "    print(row)\n",
    "    print(\"-\"*60) # Means it prints this 60 times"
   ]
  },
  {
   "cell_type": "code",
   "execution_count": 10,
   "id": "cedbb364",
   "metadata": {},
   "outputs": [
    {
     "name": "stdout",
     "output_type": "stream",
     "text": [
      "(101, 'John', 99)\n",
      "(102, 'Gary', 90)\n",
      "(103, 'James', 80)\n",
      "(104, 'Harry', 87)\n",
      "(105, 'Peter', 77)\n"
     ]
    }
   ],
   "source": [
    "results=db.execute(\"select*from grades1 order by id\") # Here * means everything\n",
    "for row in results:\n",
    "    print(row)"
   ]
  },
  {
   "cell_type": "code",
   "execution_count": 11,
   "id": "7fefac39",
   "metadata": {},
   "outputs": [
    {
     "name": "stdout",
     "output_type": "stream",
     "text": [
      "(101, 'John', 99)\n",
      "(102, 'Gary', 90)\n"
     ]
    }
   ],
   "source": [
    "results=db.execute(\"select*from grades1 where score>=90\")\n",
    "for row in results:\n",
    "    print(row)"
   ]
  },
  {
   "cell_type": "code",
   "execution_count": 17,
   "id": "3a6fd524",
   "metadata": {},
   "outputs": [
    {
     "name": "stdout",
     "output_type": "stream",
     "text": [
      "(101, 'John', 99)\n",
      "(102, 'Gary', 90)\n",
      "(103, 'James', 80)\n",
      "(104, 'Harry', 87)\n",
      "(105, 'Peter', 77)\n"
     ]
    }
   ],
   "source": [
    "results=db.execute(\"select*from grades1 name\")\n",
    "for row in results:\n",
    "    print(row)"
   ]
  },
  {
   "cell_type": "code",
   "execution_count": 18,
   "id": "92433e3d",
   "metadata": {},
   "outputs": [
    {
     "name": "stdout",
     "output_type": "stream",
     "text": [
      "(101, 'John', 99)\n",
      "(102, 'Gary', 90)\n",
      "(104, 'Harry', 87)\n",
      "(103, 'James', 80)\n",
      "(105, 'Peter', 77)\n"
     ]
    }
   ],
   "source": [
    "results=db.execute(\"select*from grades1 order by score desc\") # Here desc means descending\n",
    "for row in results:\n",
    "    print(row)"
   ]
  }
 ],
 "metadata": {
  "kernelspec": {
   "display_name": "Python 3 (ipykernel)",
   "language": "python",
   "name": "python3"
  },
  "language_info": {
   "codemirror_mode": {
    "name": "ipython",
    "version": 3
   },
   "file_extension": ".py",
   "mimetype": "text/x-python",
   "name": "python",
   "nbconvert_exporter": "python",
   "pygments_lexer": "ipython3",
   "version": "3.9.12"
  }
 },
 "nbformat": 4,
 "nbformat_minor": 5
}
